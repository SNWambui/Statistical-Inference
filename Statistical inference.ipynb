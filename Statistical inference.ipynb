{
 "cells": [
  {
   "cell_type": "code",
   "execution_count": 1,
   "metadata": {},
   "outputs": [],
   "source": [
    "import pandas as pd #imports the pandas package that is used to manipulate data from the dataset\n",
    "import matplotlib.pyplot as plt #imports matplotlib.pyplot to create histograms for #dataviz\n",
    "import numpy as np #imports numpy so as to manipulate columns in the dataset as arrays\n",
    "from scipy import stats"
   ]
  },
  {
   "cell_type": "code",
   "execution_count": 2,
   "metadata": {},
   "outputs": [
    {
     "data": {
      "text/html": [
       "<div>\n",
       "<style scoped>\n",
       "    .dataframe tbody tr th:only-of-type {\n",
       "        vertical-align: middle;\n",
       "    }\n",
       "\n",
       "    .dataframe tbody tr th {\n",
       "        vertical-align: top;\n",
       "    }\n",
       "\n",
       "    .dataframe thead th {\n",
       "        text-align: right;\n",
       "    }\n",
       "</style>\n",
       "<table border=\"1\" class=\"dataframe\">\n",
       "  <thead>\n",
       "    <tr style=\"text-align: right;\">\n",
       "      <th></th>\n",
       "      <th>price</th>\n",
       "      <th>sqft_living</th>\n",
       "      <th>yr_built</th>\n",
       "    </tr>\n",
       "  </thead>\n",
       "  <tbody>\n",
       "    <tr>\n",
       "      <th>0</th>\n",
       "      <td>221900.0</td>\n",
       "      <td>1180</td>\n",
       "      <td>1955</td>\n",
       "    </tr>\n",
       "    <tr>\n",
       "      <th>1</th>\n",
       "      <td>538000.0</td>\n",
       "      <td>2570</td>\n",
       "      <td>1951</td>\n",
       "    </tr>\n",
       "    <tr>\n",
       "      <th>2</th>\n",
       "      <td>180000.0</td>\n",
       "      <td>770</td>\n",
       "      <td>1933</td>\n",
       "    </tr>\n",
       "    <tr>\n",
       "      <th>3</th>\n",
       "      <td>604000.0</td>\n",
       "      <td>1960</td>\n",
       "      <td>1965</td>\n",
       "    </tr>\n",
       "    <tr>\n",
       "      <th>4</th>\n",
       "      <td>510000.0</td>\n",
       "      <td>1680</td>\n",
       "      <td>1987</td>\n",
       "    </tr>\n",
       "    <tr>\n",
       "      <th>...</th>\n",
       "      <td>...</td>\n",
       "      <td>...</td>\n",
       "      <td>...</td>\n",
       "    </tr>\n",
       "    <tr>\n",
       "      <th>21608</th>\n",
       "      <td>360000.0</td>\n",
       "      <td>1530</td>\n",
       "      <td>2009</td>\n",
       "    </tr>\n",
       "    <tr>\n",
       "      <th>21609</th>\n",
       "      <td>400000.0</td>\n",
       "      <td>2310</td>\n",
       "      <td>2014</td>\n",
       "    </tr>\n",
       "    <tr>\n",
       "      <th>21610</th>\n",
       "      <td>402101.0</td>\n",
       "      <td>1020</td>\n",
       "      <td>2009</td>\n",
       "    </tr>\n",
       "    <tr>\n",
       "      <th>21611</th>\n",
       "      <td>400000.0</td>\n",
       "      <td>1600</td>\n",
       "      <td>2004</td>\n",
       "    </tr>\n",
       "    <tr>\n",
       "      <th>21612</th>\n",
       "      <td>325000.0</td>\n",
       "      <td>1020</td>\n",
       "      <td>2008</td>\n",
       "    </tr>\n",
       "  </tbody>\n",
       "</table>\n",
       "<p>21613 rows × 3 columns</p>\n",
       "</div>"
      ],
      "text/plain": [
       "          price  sqft_living  yr_built\n",
       "0      221900.0         1180      1955\n",
       "1      538000.0         2570      1951\n",
       "2      180000.0          770      1933\n",
       "3      604000.0         1960      1965\n",
       "4      510000.0         1680      1987\n",
       "...         ...          ...       ...\n",
       "21608  360000.0         1530      2009\n",
       "21609  400000.0         2310      2014\n",
       "21610  402101.0         1020      2009\n",
       "21611  400000.0         1600      2004\n",
       "21612  325000.0         1020      2008\n",
       "\n",
       "[21613 rows x 3 columns]"
      ]
     },
     "execution_count": 2,
     "metadata": {},
     "output_type": "execute_result"
    }
   ],
   "source": [
    "data = pd.read_csv('kc_house_data.csv') #reads the dataset and stores it as a pandas dataframe\n",
    "data[['price', 'sqft_living', 'yr_built']] #outputs the desired columns"
   ]
  },
  {
   "cell_type": "code",
   "execution_count": 6,
   "metadata": {},
   "outputs": [],
   "source": [
    "price = list(data['price'].values)         #creates a list of prices from the dataset and stores in a variable\n",
    "sqft = list(data['sqft_living'].values)    #creates a list of square foot from the dataset and stores in a variable\n",
    "year_built = list(data['yr_built'].values) #creates a list of year built from the dataset and stores in a variable\n",
    "price_per_sqft = np.array(price)/np.array(sqft) #creates a list of price per sqft by divide the price list and sqft list\n",
    "                                                #stores the result in a variable. We use numpy to divide the lists\n",
    "#print(price_per_sqft)"
   ]
  },
  {
   "cell_type": "code",
   "execution_count": 7,
   "metadata": {},
   "outputs": [],
   "source": [
    "def my_mean(lst):\n",
    "    \"\"\"Function to compute the mean of of a list\n",
    "    \n",
    "    Args:\n",
    "        list\n",
    "    \n",
    "    Returns:\n",
    "        float: the mean of the list\n",
    "    \"\"\"\n",
    "    \n",
    "    total = sum(lst)  #finds the sum of elements in the list\n",
    "    n = len(lst)      #finds the total number of elements in the list\n",
    "    result = total/n  #the mean gotten by dividing total by n \n",
    "    return result\n",
    "\n",
    "def my_median(lst):\n",
    "    \"\"\"Function that computes the median of a given list\n",
    "    \n",
    "    Args:\n",
    "        list\n",
    "        \n",
    "    Returns:\n",
    "        float: median of list\n",
    "    \"\"\"\n",
    "    \n",
    "    lst.sort()           #sort the list so that it is ordinal(smallest to largest)\n",
    "    n = len(lst)         #get the total number of items in the list\n",
    "    med1 = lst[n//2]     #assign the position of the middle number to a variable\n",
    "    med2 = lst[n//2 - 1] #assign the position of the number before the middle number to a variable\n",
    "    if n % 2 == 0:       #check if the number of items is even and if so, add the two midpoints and divide by two\n",
    "        result = (med1 + med2)/2\n",
    "    else:               #if the number of items is odd, compute just the midpoint\n",
    "        result = med1\n",
    "    return result\n",
    "\n",
    "\n",
    "def my_range(lst):\n",
    "    \"\"\"Function that calculates the range of a list that is max - min\n",
    "    \n",
    "    Args: \n",
    "        list\n",
    "        \n",
    "    Returns:\n",
    "        float: range of the list\n",
    "    \"\"\"\n",
    "    \n",
    "    max_num = max(lst) #function that finds the largest number in a list\n",
    "    min_num = min(lst) #function that finds the smallest number in a list\n",
    "    result = max_num - min_num #range is given by the differece\n",
    "    return result\n",
    "\n",
    "'''The standard deviation measures spread from the mean. To get the standard deviation, define\n",
    "a function that takes a list as an argument. Get the total number of items as well as the mean\n",
    "using the mean function defined above. Initiate an empty list. For every item in the list(argument),\n",
    "get the difference from the mean to measure the spread and square the value of this difference. Append\n",
    "these values to a list, get the total sum of these values and asign them a new variable. Divide the result \n",
    "of this summation with the number of items in the original list and get the square root of the answer.'''\n",
    "def my_stdev(lst):\n",
    "    \"\"\"Function that computes the standard deviation (spread from the mean) of a list\n",
    "    \n",
    "    Args:\n",
    "        list\n",
    "    \n",
    "    Returns:\n",
    "        float: standard deviation of the list\n",
    "    \"\"\"\n",
    "    \n",
    "    n = len(lst)        #the total number of items in the list\n",
    "    mean = my_mean(lst) #use the mean function defined to compute mean of the list\n",
    "    lst2 = []           #initiate another list\n",
    "    for i in lst:       #for every item in the initital list, get the difference between the item and mean\n",
    "                        #and square the result\n",
    "        x = (i - mean)**2\n",
    "        lst2.append(x)  #append the values of the the result to a list\n",
    "    lst3 = sum(lst2)    #assign to a new variable, the sum of the items in this new list \n",
    "    result = (lst3/n)**0.5 #divide the total by the number of items and get the square root\n",
    "    return result\n",
    "\n",
    "\n",
    "def my_stats(data):\n",
    "    \"\"\"Function that computes the summary statistics of a given dataset based on the previously defined functions\n",
    "    \n",
    "    Args: \n",
    "        dataset\n",
    "    \n",
    "    Returns:\n",
    "        float: length of dataset\n",
    "        float: mean of data\n",
    "        float: standard deviation of data\n",
    "        float: median of data\n",
    "        float: range of data\n",
    "    \"\"\"\n",
    "    print('Count =', len(data))\n",
    "    print('Mean =', my_mean(data))\n",
    "    print('Standard deviation =', my_stdev(data))\n",
    "    print('Median =', my_median(data))\n",
    "    print('Range =', my_range(data))"
   ]
  },
  {
   "cell_type": "code",
   "execution_count": 8,
   "metadata": {},
   "outputs": [
    {
     "name": "stdout",
     "output_type": "stream",
     "text": [
      "Year built statistics:\n",
      "Count = 21613\n",
      "Mean = 1971.0051357978994\n",
      "Standard deviation = 29.372731263441953\n",
      "Median = 1975\n",
      "Range = 115\n",
      "None\n",
      "\n",
      "Price per square foot of living space statistics:\n",
      "Count = 21613\n",
      "Mean = 264.15659369451447\n",
      "Standard deviation = 110.0582466290858\n",
      "Median = 244.64454976303318\n",
      "Range = 722.5506535947712\n",
      "None\n"
     ]
    }
   ],
   "source": [
    "print('Year built statistics:')\n",
    "print(my_stats(year_built))    #calls my_stats function and computes summary statistics for year_built\n",
    "print('\\nPrice per square foot of living space statistics:')\n",
    "print(my_stats(price_per_sqft)) #calls my_stats function and computes summary statistics for price_per_sqft"
   ]
  },
  {
   "cell_type": "code",
   "execution_count": 9,
   "metadata": {},
   "outputs": [
    {
     "data": {
      "image/png": "[encoded data removed]",
      "text/plain": [
       "<Figure size 432x288 with 1 Axes>"
      ]
     },
     "metadata": {
      "needs_background": "light"
     },
     "output_type": "display_data"
    }
   ],
   "source": [
    "plt.hist(year_built, bins = 100)\n",
    "plt.title('Figure 1: Histogram showing the age of the houses')\n",
    "plt.xlabel('Age of house(year the house was built)')\n",
    "plt.ylabel('Frequency')\n",
    "plt.show()"
   ]
  },
  {
   "cell_type": "code",
   "execution_count": 11,
   "metadata": {},
   "outputs": [
    {
     "data": {
      "image/png": "[encoded data removed]",
      "text/plain": [
       "<Figure size 432x288 with 1 Axes>"
      ]
     },
     "metadata": {
      "needs_background": "light"
     },
     "output_type": "display_data"
    }
   ],
   "source": [
    "plt.hist(price_per_sqft, bins = 100)\n",
    "plt.title('Figure 2: Histogram for the price per square foot of living space')\n",
    "plt.xlabel('Price per square foot of living space')\n",
    "plt.ylabel('Frequency')\n",
    "plt.show()"
   ]
  },
  {
   "cell_type": "code",
   "execution_count": 24,
   "metadata": {},
   "outputs": [
    {
     "name": "stdout",
     "output_type": "stream",
     "text": [
      "The confidence interval is: [262.2251379175817, 266.08804947144733]\n"
     ]
    }
   ],
   "source": [
    "\n",
    "def confidence_interval(data, z):\n",
    "    \"\"\"Function that computes the confidence interval (distance from the mean) of a given dataset based on the standard\n",
    "        error and z-score\n",
    "    \n",
    "    Args:\n",
    "        array: the dataset\n",
    "        float: a predefined z-score\n",
    "        \n",
    "    Returns:\n",
    "        str: containing the lower and upper bounds as float\n",
    "    \"\"\"\n",
    "    \n",
    "    mean = np.mean(data)\n",
    "    std = np.std(data)\n",
    "    n = len(data)\n",
    "    SE = std/((n)**0.5)#computes the standard error using standard error formula\n",
    "    lowbound = mean - (z)*(SE)#computes the lower bound\n",
    "    upbound = mean + (z)*(SE)#computes the upper bound\n",
    "    print('The confidence interval is:',[lowbound, upbound])#prints the confidence interval\n",
    "\n",
    "confidence_interval(price_per_sqft, 2.58)"
   ]
  },
  {
   "cell_type": "code",
   "execution_count": 12,
   "metadata": {},
   "outputs": [],
   "source": [
    "\"\"\"The code below creates a list of the houses built by sorting the old houses and new houses based on the year 1965.\n",
    "    Start by creating an empty list that will store the values of old houses and new houses as True and False respectively.\n",
    "    Create a for loop of the year_built list that checks for the items in the list that are equal to or less than 1965 and \n",
    "    assigns them a value True and if not assigns them a value False then appends these values to the empty list\"\"\"\n",
    "\n",
    "all_houses = [] #empty list of all the houses\n",
    "for i in year_built: #for loop that sorts the values based on year 1965 and appends the sorted values into the house list\n",
    "    if i <= 1965:\n",
    "        all_houses.append(True)\n",
    "    else:\n",
    "        all_houses.append(False)\n",
    "#print(all_houses)\n",
    "\n",
    "\"\"\"The code below creates two lists for the price per square foot for new houses and for old houses. Start by initiating\n",
    "    a count that will add values so as to check the next index element based on the condition set. Create two empty lists for\n",
    "    the price per square foot for the old and new houses. Initiate a for loop that compares the values in the price_per_sqft\n",
    "    list with the all houses list. The conditions checks if the index of the a value in the previous all_houses is True, then\n",
    "    we append the value of price per square foot that corresponds with that index value to the old_house list and if not, the\n",
    "    value is appended to the new_house list\"\"\"\n",
    "\n",
    "count = 0 #initiate a counter that will add the values\n",
    "new_house = [] #initiates empty list to store values of price per square foot for old houses\n",
    "old_house = [] #initiates empty list to store values of price per square foot for new houses\n",
    "for i in price_per_sqft: #for loop to compare the index values of houses and price per square foot \n",
    "    if all_houses[count] == True: #corresponding values in the condition are appended to the corresponding lists.\n",
    "        old_house.append(i)\n",
    "    else:\n",
    "        new_house.append(i)\n",
    "    count += 1 #this continues to check the next element's index until the loop runs through the whole list."
   ]
  },
  {
   "cell_type": "code",
   "execution_count": 13,
   "metadata": {},
   "outputs": [
    {
     "name": "stdout",
     "output_type": "stream",
     "text": [
      "Price per square foot living space old houses:\n",
      "Count = 8788\n",
      "Mean = 169.73334189467656\n",
      "Standard deviation = 31.385770653988683\n",
      "Median = 171.6417910447761\n",
      "Range = 133.6507027589797\n",
      "None \n",
      "\n",
      "Price per square foot living space for new houses:\n",
      "Count = 12825\n",
      "Mean = 328.8576881831677\n",
      "Standard deviation = 97.17150961982303\n",
      "Median = 300.2610966057441\n",
      "Range = 588.8745210727969\n",
      "None\n"
     ]
    }
   ],
   "source": [
    "print('Price per square foot living space old houses:')\n",
    "print(my_stats(old_house), '\\n')\n",
    "print('Price per square foot living space for new houses:')\n",
    "print(my_stats(new_house))"
   ]
  },
  {
   "cell_type": "code",
   "execution_count": 14,
   "metadata": {},
   "outputs": [
    {
     "data": {
      "image/png": "[encoded data removed]",
      "text/plain": [
       "<Figure size 432x288 with 1 Axes>"
      ]
     },
     "metadata": {
      "needs_background": "light"
     },
     "output_type": "display_data"
    }
   ],
   "source": [
    "#The code below plots the frequency distribution of the price per square foot of old houses using matplotlib.pyplot\n",
    "plt.hist(old_house, bins = 1000)\n",
    "plt.title('Figure 3: Histogram for the price per square foot living of old houses')\n",
    "plt.ylabel('Frequency')\n",
    "plt.xlabel('Price per square foot living(old houses)')\n",
    "plt.show()"
   ]
  },
  {
   "cell_type": "code",
   "execution_count": 16,
   "metadata": {},
   "outputs": [
    {
     "data": {
      "image/png": "[encoded data removed]",
      "text/plain": [
       "<Figure size 432x288 with 1 Axes>"
      ]
     },
     "metadata": {
      "needs_background": "light"
     },
     "output_type": "display_data"
    }
   ],
   "source": [
    "#The code below plots the frequency distribution of the price per square foot of new houses using matplotlib.pyplot\n",
    "plt.hist(new_house, bins = 100)\n",
    "plt.title('Figure 4: Histogram for the price per square foot living for new houses')\n",
    "plt.xlabel('Price per square foot living(new houses)')\n",
    "plt.ylabel('Frequency')\n",
    "plt.show()"
   ]
  },
  {
   "cell_type": "code",
   "execution_count": 17,
   "metadata": {},
   "outputs": [
    {
     "name": "stdout",
     "output_type": "stream",
     "text": [
      "T = 172.75682025510162\n",
      "p = 0.0\n",
      "d = 2.0535874328165193\n"
     ]
    }
   ],
   "source": [
    "#This code is inspired by CS50 class session 13.2.\n",
    "def difference_of_means_test(data1,data2,tails):\n",
    "    \"\"\"Function that calculates the difference of means test between two datasets with specified number of tails\n",
    "    \n",
    "    Args:\n",
    "        array: the first dataset\n",
    "        array: the second dataset\n",
    "        \n",
    "    Returns:\n",
    "        str: Containing the T-score as float\n",
    "        str: containing the p-value as float\n",
    "        str: containing the cohen's d as float\n",
    "        \n",
    "    \"\"\"\n",
    "    \n",
    "    n1 = len(data1) #computes length of data\n",
    "    n2 = len(data2)\n",
    "\n",
    "    x1 = np.mean(data1) #computes mean of data\n",
    "    x2 = np.mean(data2)\n",
    "\n",
    "    s1 = np.std(data1,ddof=1) # Bessel’s correction: use n-1 in denominator\n",
    "    s2 = np.std(data2,ddof=1) #computes the standard deviation\n",
    "\n",
    "    SE = np.sqrt(s1**2/n1 + s2**2/n2) #computes the standard error\n",
    "    Tscore = np.abs((x2 - x1))/SE     #computes the T-score\n",
    "    df = min(n1,n2) - 1               # conservative estimate from OpenIntro, lpwest degrees of freedom\n",
    "    pvalue = tails*stats.t.cdf(-Tscore,df)#computes the p-value\n",
    "\n",
    "    SDpooled = np.sqrt((s1**2*(n1-1) + s2**2*(n2-1))/(n1+n2-2)) # OpenIntro section 5.3.6, computes pooled sd\n",
    "    Cohensd = (x2 - x1)/SDpooled                                #computes the effect size, d\n",
    "    print('T =', Tscore)\n",
    "    print('p =', pvalue)\n",
    "    print('d =',Cohensd)\n",
    "      \n",
    "difference_of_means_test(old_house, new_house, 2)"
   ]
  },
  {
   "cell_type": "code",
   "execution_count": 18,
   "metadata": {},
   "outputs": [],
   "source": [
    "def conf_interval(data1, data2, z):\n",
    "    \"\"\"Function that computes the confidence interval for the difference of means between two datasets\n",
    "    \n",
    "    Args: \n",
    "        array: the first dataset\n",
    "        array: the second dataset\n",
    "        float: a specified z-score\n",
    "    \n",
    "    Returns:\n",
    "        str: containing the lower and upper bounds of the difference of means as float\n",
    "    \"\"\"\n",
    "    mean1 = np.mean(data1)\n",
    "    mean2 = np.mean(data2)\n",
    "    mean_diff = np.abs(mean1 - mean2)\n",
    "    std1 = np.std(data1, ddof=1)\n",
    "    std2 = np.std(data2, ddof=1)\n",
    "    n1 = len(data1)\n",
    "    n2 = len(data2)\n",
    "    SE = np.sqrt(std1**2/n1 + std2**2/n2)\n",
    "    lowbound = mean_diff - (z)*SE\n",
    "    upbound = mean_diff + (z)*SE\n",
    "    print('The confidence interval is:', [lowbound, upbound])"
   ]
  },
  {
   "cell_type": "code",
   "execution_count": 19,
   "metadata": {},
   "outputs": [
    {
     "name": "stdout",
     "output_type": "stream",
     "text": [
      "The confidence interval is: [156.74793757236597, 161.50075500461645]\n"
     ]
    }
   ],
   "source": [
    "conf_interval(old_house, new_house, 2.58)"
   ]
  }
 ],
 "metadata": {
  "kernelspec": {
   "display_name": "Python 3",
   "language": "python",
   "name": "python3"
  },
  "language_info": {
   "codemirror_mode": {
    "name": "ipython",
    "version": 3
   },
   "file_extension": ".py",
   "mimetype": "text/x-python",
   "name": "python",
   "nbconvert_exporter": "python",
   "pygments_lexer": "ipython3",
   "version": "3.7.6"
  }
 },
 "nbformat": 4,
 "nbformat_minor": 2
}
